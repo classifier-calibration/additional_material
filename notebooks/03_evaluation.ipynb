{
 "cells": [
  {
   "cell_type": "code",
   "execution_count": 1,
   "metadata": {},
   "outputs": [
    {
     "name": "stdout",
     "output_type": "stream",
     "text": [
      "Requirement already satisfied: iteround in /home/mp15688/git/cla_cal_material/venv/lib/python3.8/site-packages (1.0.2)\n",
      "Note: you may need to restart the kernel to use updated packages.\n"
     ]
    }
   ],
   "source": [
    "pip install iteround"
   ]
  },
  {
   "cell_type": "code",
   "execution_count": 2,
   "metadata": {},
   "outputs": [],
   "source": [
    "import warnings\n",
    "warnings.filterwarnings('ignore')"
   ]
  },
  {
   "cell_type": "code",
   "execution_count": 3,
   "metadata": {},
   "outputs": [],
   "source": [
    "import matplotlib.pyplot as plt\n",
    "from pycalib.visualisations import (\n",
    "    plot_reliability_diagram,\n",
    "    plot_binary_reliability_diagram_gaps,\n",
    "    plot_multiclass_reliability_diagram_gaps)\n",
    "from sklearn.preprocessing import OneHotEncoder\n",
    "import iteround\n",
    "import numpy as np\n",
    "import pandas as pd\n",
    "from scipy.stats import dirichlet"
   ]
  },
  {
   "cell_type": "code",
   "execution_count": 4,
   "metadata": {},
   "outputs": [],
   "source": [
    "def get_scores(alpha, size, random_state):\n",
    "    np.random.seed(random_state)\n",
    "    scores = dirichlet.rvs(alpha, size)\n",
    "    rounded_scores = np.array(\n",
    "        [iteround.saferound(s, 1) for s in scores]\n",
    "    )\n",
    "    return rounded_scores"
   ]
  },
  {
   "cell_type": "code",
   "execution_count": 5,
   "metadata": {},
   "outputs": [],
   "source": [
    "n_class = 10"
   ]
  },
  {
   "cell_type": "code",
   "execution_count": 6,
   "metadata": {},
   "outputs": [],
   "source": [
    "scores_1 = get_scores([5, 1, 1], n_class, 42)\n",
    "labels_1 = np.random.choice(3, size=(n_class, 1), p=[0.6, 0.2, 0.2])"
   ]
  },
  {
   "cell_type": "code",
   "execution_count": 7,
   "metadata": {},
   "outputs": [],
   "source": [
    "scores_2 = get_scores([1, 3, 2], n_class, 43)\n",
    "labels_2 = np.random.choice(3, size=(n_class, 1), p=[0.2, 0.5, 0.3])\n",
    "random_instance = np.random.choice(n_class)\n",
    "scores_2[random_instance] = np.around(np.ones(3) / 3, 2)\n",
    "labels_2[random_instance] = 0"
   ]
  },
  {
   "cell_type": "code",
   "execution_count": 8,
   "metadata": {},
   "outputs": [],
   "source": [
    "scores_3 = get_scores([1, 2, 3], n_class, 44)\n",
    "labels_3 = np.random.choice(3, size=(n_class, 1), p=[0.2, 0.3, 0.5])\n",
    "scores_3[random_instance] = np.around(np.ones(3) / 3, 2)\n",
    "labels_3[random_instance] = 0"
   ]
  },
  {
   "cell_type": "code",
   "execution_count": 9,
   "metadata": {},
   "outputs": [],
   "source": [
    "scores = np.vstack([scores_1, scores_2, scores_3])\n",
    "labels = np.vstack([labels_1, labels_2, labels_3]) + 1"
   ]
  },
  {
   "cell_type": "code",
   "execution_count": 10,
   "metadata": {},
   "outputs": [],
   "source": [
    "toy = pd.DataFrame(\n",
    "    np.hstack([scores, labels]),\n",
    "    columns=['$\\hat{p}_1$', '$\\hat{p}_2$', '$\\hat{p}_3$', '$y$']\n",
    ").astype(\n",
    "    {\n",
    "        '$\\hat{p}_1$': float,\n",
    "        '$\\hat{p}_2$': float,\n",
    "        '$\\hat{p}_3$': float,\n",
    "        '$y$': int\n",
    "    }\n",
    ")"
   ]
  },
  {
   "cell_type": "code",
   "execution_count": 11,
   "metadata": {},
   "outputs": [
    {
     "name": "stdout",
     "output_type": "stream",
     "text": [
      "\\begin{tabular}{lrrrr}\n",
      "\\toprule\n",
      "{} &  $\\hat{p}_1$ &  $\\hat{p}_2$ &  $\\hat{p}_3$ &  $y$ \\\\\n",
      "\\midrule\n",
      "1  &         1.00 &         0.00 &         0.00 &    1 \\\\\n",
      "2  &         0.90 &         0.10 &         0.00 &    1 \\\\\n",
      "3  &         0.80 &         0.10 &         0.10 &    1 \\\\\n",
      "4  &         0.70 &         0.10 &         0.20 &    1 \\\\\n",
      "5  &         0.60 &         0.30 &         0.10 &    1 \\\\\n",
      "6  &         0.40 &         0.10 &         0.50 &    1 \\\\\n",
      "7  &         0.33 &         0.33 &         0.33 &    1 \\\\\n",
      "8  &         0.33 &         0.33 &         0.33 &    1 \\\\\n",
      "9  &         0.20 &         0.40 &         0.40 &    1 \\\\\n",
      "10 &         0.10 &         0.50 &         0.40 &    1 \\\\\n",
      "\\bottomrule\n",
      "\\end{tabular}\n",
      " \\hfill\n",
      "\\begin{tabular}{lrrrr}\n",
      "\\toprule\n",
      "{} &  $\\hat{p}_1$ &  $\\hat{p}_2$ &  $\\hat{p}_3$ &  $y$ \\\\\n",
      "\\midrule\n",
      "11 &          0.8 &          0.2 &          0.0 &    2 \\\\\n",
      "12 &          0.7 &          0.0 &          0.3 &    2 \\\\\n",
      "13 &          0.5 &          0.2 &          0.3 &    2 \\\\\n",
      "14 &          0.4 &          0.4 &          0.2 &    2 \\\\\n",
      "15 &          0.4 &          0.2 &          0.4 &    2 \\\\\n",
      "16 &          0.3 &          0.4 &          0.3 &    2 \\\\\n",
      "17 &          0.2 &          0.3 &          0.5 &    2 \\\\\n",
      "18 &          0.1 &          0.6 &          0.3 &    2 \\\\\n",
      "19 &          0.1 &          0.3 &          0.6 &    2 \\\\\n",
      "20 &          0.0 &          0.2 &          0.8 &    2 \\\\\n",
      "\\bottomrule\n",
      "\\end{tabular}\n",
      " \\hfill\n",
      "\\begin{tabular}{lrrrr}\n",
      "\\toprule\n",
      "{} &  $\\hat{p}_1$ &  $\\hat{p}_2$ &  $\\hat{p}_3$ &  $y$ \\\\\n",
      "\\midrule\n",
      "21 &          0.8 &          0.2 &          0.0 &    3 \\\\\n",
      "22 &          0.8 &          0.1 &          0.1 &    3 \\\\\n",
      "23 &          0.8 &          0.0 &          0.2 &    3 \\\\\n",
      "24 &          0.6 &          0.0 &          0.4 &    3 \\\\\n",
      "25 &          0.3 &          0.0 &          0.7 &    3 \\\\\n",
      "26 &          0.2 &          0.6 &          0.2 &    3 \\\\\n",
      "27 &          0.2 &          0.4 &          0.4 &    3 \\\\\n",
      "28 &          0.0 &          0.4 &          0.6 &    3 \\\\\n",
      "29 &          0.0 &          0.3 &          0.7 &    3 \\\\\n",
      "30 &          0.0 &          0.3 &          0.7 &    3 \\\\\n",
      "\\bottomrule\n",
      "\\end{tabular}\n",
      " \\hfill\n"
     ]
    }
   ],
   "source": [
    "sorted_toy = toy.sort_values(\n",
    "    by=['$y$', '$\\hat{p}_1$', '$\\hat{p}_2$', '$\\hat{p}_3$'],\n",
    "    ascending=[True, False, False, False]\n",
    ")\n",
    "\n",
    "for i in range(3):\n",
    "    init = 10 * i\n",
    "    end = 10 * (i + 1)\n",
    "    print(\n",
    "        sorted_toy.iloc[init:end].set_index(\n",
    "            np.arange(init + 1, end + 1)\n",
    "        ).to_latex(escape=False), \n",
    "        '\\hfill'\n",
    "    )"
   ]
  },
  {
   "cell_type": "code",
   "execution_count": 12,
   "metadata": {},
   "outputs": [
    {
     "name": "stdout",
     "output_type": "stream",
     "text": [
      "\\begin{tabular}{lrrr}\n",
      "\\toprule\n",
      "{} &  $\\hat{p}_1$ &  $\\hat{p}_0$ &  $y$ \\\\\n",
      "\\midrule\n",
      "1  &         1.00 &         0.00 &    1 \\\\\n",
      "2  &         0.90 &         0.10 &    1 \\\\\n",
      "3  &         0.80 &         0.20 &    1 \\\\\n",
      "4  &         0.70 &         0.30 &    1 \\\\\n",
      "5  &         0.60 &         0.40 &    1 \\\\\n",
      "6  &         0.40 &         0.60 &    1 \\\\\n",
      "7  &         0.33 &         0.66 &    1 \\\\\n",
      "8  &         0.33 &         0.66 &    1 \\\\\n",
      "9  &         0.20 &         0.80 &    1 \\\\\n",
      "10 &         0.10 &         0.90 &    1 \\\\\n",
      "\\bottomrule\n",
      "\\end{tabular}\n",
      " \\hfill\n",
      "\\begin{tabular}{lrrr}\n",
      "\\toprule\n",
      "{} &  $\\hat{p}_1$ &  $\\hat{p}_0$ &  $y$ \\\\\n",
      "\\midrule\n",
      "11 &          0.8 &          0.2 &    0 \\\\\n",
      "12 &          0.7 &          0.3 &    0 \\\\\n",
      "13 &          0.5 &          0.5 &    0 \\\\\n",
      "14 &          0.4 &          0.6 &    0 \\\\\n",
      "15 &          0.4 &          0.6 &    0 \\\\\n",
      "16 &          0.3 &          0.7 &    0 \\\\\n",
      "17 &          0.2 &          0.8 &    0 \\\\\n",
      "18 &          0.1 &          0.9 &    0 \\\\\n",
      "19 &          0.1 &          0.9 &    0 \\\\\n",
      "20 &          0.0 &          1.0 &    0 \\\\\n",
      "\\bottomrule\n",
      "\\end{tabular}\n",
      " \\hfill\n",
      "\\begin{tabular}{lrrr}\n",
      "\\toprule\n",
      "{} &  $\\hat{p}_1$ &  $\\hat{p}_0$ &  $y$ \\\\\n",
      "\\midrule\n",
      "21 &          0.8 &          0.2 &    0 \\\\\n",
      "22 &          0.8 &          0.2 &    0 \\\\\n",
      "23 &          0.8 &          0.2 &    0 \\\\\n",
      "24 &          0.6 &          0.4 &    0 \\\\\n",
      "25 &          0.3 &          0.7 &    0 \\\\\n",
      "26 &          0.2 &          0.8 &    0 \\\\\n",
      "27 &          0.2 &          0.8 &    0 \\\\\n",
      "28 &          0.0 &          1.0 &    0 \\\\\n",
      "29 &          0.0 &          1.0 &    0 \\\\\n",
      "30 &          0.0 &          1.0 &    0 \\\\\n",
      "\\bottomrule\n",
      "\\end{tabular}\n",
      " \\hfill\n"
     ]
    }
   ],
   "source": [
    "for i in range(3):\n",
    "    init = 10 * i\n",
    "    end = 10 * (i + 1)\n",
    "    temp_toy = sorted_toy.iloc[init:end].set_index(np.arange(init + 1, end + 1))\n",
    "    temp_toy['$y$'] = (temp_toy['$y$'] == 1).astype(int)\n",
    "    temp_toy['$\\hat{p}_0$'] = temp_toy['$\\hat{p}_2$'] + temp_toy['$\\hat{p}_3$']\n",
    "    print(\n",
    "        temp_toy.to_latex(\n",
    "            escape=False,\n",
    "            columns=['$\\hat{p}_1$', '$\\hat{p}_0$', '$y$']\n",
    "        ), \n",
    "        '\\hfill'\n",
    "    )"
   ]
  },
  {
   "cell_type": "code",
   "execution_count": 13,
   "metadata": {},
   "outputs": [],
   "source": [
    "def get_bins(df, pos_label, n_bins, bin_edges=None, print_table=True):\n",
    "    positive_scores = df[f'$\\hat{{p}}_{pos_label}$'].values\n",
    "    positive_labels = (df['$y$'] == pos_label).astype(int).values\n",
    "\n",
    "#     if bin_edges is None:\n",
    "#         (counts, bin_edges) = np.histogram(\n",
    "#             positive_scores, \n",
    "#             bins=n_bins,\n",
    "# #             right=True\n",
    "#         )\n",
    "\n",
    "#     bin_idx = np.clip(\n",
    "#         np.digitize(positive_scores, bin_edges), \n",
    "#         0, n_bins\n",
    "#     )\n",
    "    \n",
    "    bins_scores, bins_labels = [], []\n",
    "\n",
    "#     for b in range(n_bins):\n",
    "#         bins_scores.append(sorted(positive_scores[bin_idx == b]))\n",
    "#         bins_labels.append(sorted(positive_labels[bin_idx == b]))\n",
    "    \n",
    "    \n",
    "    bin_size = 1.0/n_bins\n",
    "    centers = np.linspace(bin_size/2.0, 1.0 - bin_size/2.0, n_bins)\n",
    "    for i, center in enumerate(centers):\n",
    "        if i == 0:\n",
    "            # First bin include lower bound\n",
    "            bin_indices = np.where(\n",
    "                np.logical_and(\n",
    "                    positive_scores >= center - bin_size/2, positive_scores <= center + bin_size/2\n",
    "                )\n",
    "            )\n",
    "            bins_scores.append(sorted(positive_scores[bin_indices]))\n",
    "            bins_labels.append(sorted(positive_labels[bin_indices]))\n",
    "        else:\n",
    "            bin_indices = np.where(\n",
    "                np.logical_and(\n",
    "                    positive_scores > center - bin_size/2, positive_scores <= center + bin_size/2\n",
    "                )\n",
    "            )\n",
    "            bins_scores.append(sorted(positive_scores[bin_indices]))\n",
    "            bins_labels.append(sorted(positive_labels[bin_indices]))\n",
    "    \n",
    "    bins_df = pd.DataFrame(\n",
    "        {\n",
    "            '$B_i$': [f'$B_{i + 1}$' for i in range(n_bins)],\n",
    "            '$|B_{i}|$': [\n",
    "                len(bs) for bs in bins_scores\n",
    "            ],\n",
    "            'scores': bins_scores,\n",
    "            '$\\Bar{p}(B_{i})$': [\n",
    "                '{}/{}'.format(np.around(np.sum(bs), 1), len(bs)) for bs in bins_scores\n",
    "            ],\n",
    "            '$\\Bar{p}(B_{i}2)$': [\n",
    "                np.around(np.mean(bs), 2) for bs in bins_scores\n",
    "            ],\n",
    "            'labels': bins_labels,\n",
    "            '$\\Bar{y}(B_{i})$': [\n",
    "                '{}/{}'.format(np.around(np.sum(bl), 1), len(bl)) for bl in bins_labels\n",
    "            ],\n",
    "            '$\\Bar{y}(B_{i}2)$': [\n",
    "                np.around(np.mean(bl), 2) for bl in bins_labels\n",
    "            ]\n",
    "        }\n",
    "    )\n",
    "    \n",
    "    if print_table:\n",
    "        print(\n",
    "            bins_df.drop(['$\\Bar{p}(B_{i}2)$', '$\\Bar{y}(B_{i}2)$'], axis=1).to_latex(\n",
    "                escape=False, \n",
    "                index=False\n",
    "            ).replace('[', '').replace(']', '').replace('0.33', '1/3').replace('scores', '').replace('labels', '')\n",
    "        )\n",
    "    return bins_df"
   ]
  },
  {
   "cell_type": "code",
   "execution_count": 14,
   "metadata": {},
   "outputs": [
    {
     "name": "stdout",
     "output_type": "stream",
     "text": [
      "\\begin{tabular}{lrllll}\n",
      "\\toprule\n",
      "$B_i$ &  $|B_{i}|$ &                                              & $\\Bar{p}(B_{i})$ &                             & $\\Bar{y}(B_{i})$ \\\\\n",
      "\\midrule\n",
      "$B_1$ &         11 & 0.0, 0.0, 0.0, 0.0, 0.1, 0.1, 0.1, 0.2, 0.2, 0... &           1.1/11 & 0, 0, 0, 0, 0, 0, 0, 0, 0, 1, 1 &             2/11 \\\\\n",
      "$B_2$ &          7 &              0.3, 0.3, 1/3, 1/3, 0.4, 0.4, 0.4 &            2.5/7 &             0, 0, 0, 0, 1, 1, 1 &              3/7 \\\\\n",
      "$B_3$ &          3 &                                    0.5, 0.6, 0.6 &            1.7/3 &                         0, 0, 1 &              1/3 \\\\\n",
      "$B_4$ &          7 &                0.7, 0.7, 0.8, 0.8, 0.8, 0.8, 0.8 &            5.4/7 &             0, 0, 0, 0, 0, 1, 1 &              2/7 \\\\\n",
      "$B_5$ &          2 &                                         0.9, 1.0 &            1.9/2 &                            1, 1 &              2/2 \\\\\n",
      "\\bottomrule\n",
      "\\end{tabular}\n",
      "\n"
     ]
    }
   ],
   "source": [
    "n_bins = 5\n",
    "bins_positive = get_bins(sorted_toy, 1, n_bins)"
   ]
  },
  {
   "cell_type": "code",
   "execution_count": 15,
   "metadata": {},
   "outputs": [
    {
     "name": "stdout",
     "output_type": "stream",
     "text": [
      "\\begin{tabular}{lrrr}\n",
      "\\toprule\n",
      "$B_i$ &  $\\Bar{p}(B_{i})$ &  $\\Bar{y}(B_{i})$ &  $|B_{i}|$ \\\\\n",
      "\\midrule\n",
      "$B_1$ &               0.10 &               0.18 &         11 \\\\\n",
      "$B_2$ &               0.35 &               0.43 &          7 \\\\\n",
      "$B_3$ &               0.57 &               0.33 &          3 \\\\\n",
      "$B_4$ &               0.77 &               0.29 &          7 \\\\\n",
      "$B_5$ &               0.95 &               1.00 &          2 \\\\\n",
      "\\bottomrule\n",
      "\\end{tabular}\n",
      "\n"
     ]
    }
   ],
   "source": [
    "print(\n",
    "    bins_positive.to_latex(\n",
    "        columns=['$B_i$', '$\\Bar{p}(B_{i}2)$', '$\\Bar{y}(B_{i}2)$', '$|B_{i}|$'],\n",
    "        escape=False, \n",
    "        index=False\n",
    "    ).replace('{i}2', '{i}')\n",
    ")"
   ]
  },
  {
   "cell_type": "code",
   "execution_count": 16,
   "metadata": {},
   "outputs": [],
   "source": [
    "def calculate_binary_ece(bins):\n",
    "    abs_diff = (bins['$\\Bar{y}(B_{i}2)$'] - bins['$\\Bar{p}(B_{i}2)$']).abs()\n",
    "    mul = abs_diff * bins['$|B_{i}|$']\n",
    "    numerator = ' + '.join(\n",
    "        [\n",
    "            '{} \\cdot {}'.format(b, np.around(ad, 2)) for (b, ad) in zip(\n",
    "                bins['$|B_{i}|$'], abs_diff\n",
    "            )\n",
    "        ]\n",
    "    )\n",
    "    \n",
    "    return np.around(mul.sum() / bins['$|B_{i}|$'].sum(), 4), numerator"
   ]
  },
  {
   "cell_type": "code",
   "execution_count": 17,
   "metadata": {},
   "outputs": [
    {
     "name": "stdout",
     "output_type": "stream",
     "text": [
      "(0.1873, '11 \\\\cdot 0.08 + 7 \\\\cdot 0.08 + 3 \\\\cdot 0.24 + 7 \\\\cdot 0.48 + 2 \\\\cdot 0.05')\n"
     ]
    }
   ],
   "source": [
    "pos_ece = calculate_binary_ece(bins_positive)\n",
    "print(pos_ece)"
   ]
  },
  {
   "cell_type": "code",
   "execution_count": 18,
   "metadata": {},
   "outputs": [],
   "source": [
    "def get_confidence_df(df):\n",
    "    conf_values = df.drop('$y$', axis=1).set_index(\n",
    "        np.arange(1, 31)\n",
    "    ).max(axis=1)\n",
    "    \n",
    "    conf_columns = df.drop('$y$', axis=1).set_index(\n",
    "        np.arange(1, 31)\n",
    "    ).idxmax(axis=1).values\n",
    "    \n",
    "    predictions = np.array([int(col[-2]) for col in conf_columns])\n",
    "    correct = (df['$y$'].values == predictions).astype(int)\n",
    "    \n",
    "    return pd.DataFrame(\n",
    "        {\n",
    "            '$\\hat{p}_1$': conf_values,\n",
    "            '$y$': correct\n",
    "        }\n",
    "    )"
   ]
  },
  {
   "cell_type": "code",
   "execution_count": 19,
   "metadata": {},
   "outputs": [],
   "source": [
    "conf_df = get_confidence_df(sorted_toy)"
   ]
  },
  {
   "cell_type": "code",
   "execution_count": 20,
   "metadata": {},
   "outputs": [
    {
     "name": "stdout",
     "output_type": "stream",
     "text": [
      "\\begin{tabular}{rr}\n",
      "\\toprule\n",
      "confidence & correct \\\\\n",
      "\\midrule\n",
      "      1.00 &       1 \\\\\n",
      "      0.90 &       1 \\\\\n",
      "      0.80 &       1 \\\\\n",
      "      0.70 &       1 \\\\\n",
      "      0.60 &       1 \\\\\n",
      "      0.50 &       0 \\\\\n",
      "      0.33 &       1 \\\\\n",
      "      0.33 &       1 \\\\\n",
      "      0.40 &       0 \\\\\n",
      "      0.50 &       0 \\\\\n",
      "\\bottomrule\n",
      "\\end{tabular}\n",
      " \\hfill\n",
      "\\begin{tabular}{rr}\n",
      "\\toprule\n",
      "confidence & correct \\\\\n",
      "\\midrule\n",
      "       0.8 &       0 \\\\\n",
      "       0.7 &       0 \\\\\n",
      "       0.5 &       0 \\\\\n",
      "       0.4 &       0 \\\\\n",
      "       0.4 &       0 \\\\\n",
      "       0.4 &       1 \\\\\n",
      "       0.5 &       0 \\\\\n",
      "       0.6 &       1 \\\\\n",
      "       0.6 &       0 \\\\\n",
      "       0.8 &       0 \\\\\n",
      "\\bottomrule\n",
      "\\end{tabular}\n",
      " \\hfill\n",
      "\\begin{tabular}{rr}\n",
      "\\toprule\n",
      "confidence & correct \\\\\n",
      "\\midrule\n",
      "       0.8 &       0 \\\\\n",
      "       0.8 &       0 \\\\\n",
      "       0.8 &       0 \\\\\n",
      "       0.6 &       0 \\\\\n",
      "       0.7 &       1 \\\\\n",
      "       0.6 &       0 \\\\\n",
      "       0.4 &       0 \\\\\n",
      "       0.6 &       1 \\\\\n",
      "       0.7 &       1 \\\\\n",
      "       0.7 &       1 \\\\\n",
      "\\bottomrule\n",
      "\\end{tabular}\n",
      " \\hfill\n"
     ]
    }
   ],
   "source": [
    "for i in range(3):\n",
    "    init = 10 * i\n",
    "    end = 10 * (i + 1)\n",
    "    print(\n",
    "        conf_df.iloc[init:end].set_index(\n",
    "            np.arange(init + 1, end + 1)\n",
    "        ).to_latex(header=['confidence', 'correct'], index=False, escape=False), \n",
    "        '\\hfill'\n",
    "    )"
   ]
  },
  {
   "cell_type": "code",
   "execution_count": 21,
   "metadata": {},
   "outputs": [
    {
     "name": "stdout",
     "output_type": "stream",
     "text": [
      "\\begin{tabular}{lrllll}\n",
      "\\toprule\n",
      "$B_i$ &  $|B_{i}|$ &                                              & $\\Bar{p}(B_{i})$ &                             & $\\Bar{y}(B_{i})$ \\\\\n",
      "\\midrule\n",
      "$B_1$ &          0 &                                                  &            0.0/0 &                                 &            0.0/0 \\\\\n",
      "$B_2$ &          7 &              1/3, 1/3, 0.4, 0.4, 0.4, 0.4, 0.4 &            2.7/7 &             0, 0, 0, 0, 1, 1, 1 &              3/7 \\\\\n",
      "$B_3$ &         10 & 0.5, 0.5, 0.5, 0.5, 0.6, 0.6, 0.6, 0.6, 0.6, 0.6 &           5.6/10 &    0, 0, 0, 0, 0, 0, 0, 1, 1, 1 &             3/10 \\\\\n",
      "$B_4$ &         11 & 0.7, 0.7, 0.7, 0.7, 0.7, 0.8, 0.8, 0.8, 0.8, 0... &           8.3/11 & 0, 0, 0, 0, 0, 0, 1, 1, 1, 1, 1 &             5/11 \\\\\n",
      "$B_5$ &          2 &                                         0.9, 1.0 &            1.9/2 &                            1, 1 &              2/2 \\\\\n",
      "\\bottomrule\n",
      "\\end{tabular}\n",
      "\n"
     ]
    }
   ],
   "source": [
    "bins_conf = get_bins(\n",
    "    conf_df, 1, n_bins, bin_edges=np.linspace(0, 1, 6)\n",
    ")"
   ]
  },
  {
   "cell_type": "code",
   "execution_count": 22,
   "metadata": {},
   "outputs": [
    {
     "name": "stdout",
     "output_type": "stream",
     "text": [
      "\\begin{tabular}{lrrr}\n",
      "\\toprule\n",
      "$B_i$ &  $\\Bar{p}(B_{i})$ &  $\\Bar{y}(B_{i})$ &  $|B_{i}|$ \\\\\n",
      "\\midrule\n",
      "$B_1$ &                 &                 &          0 \\\\\n",
      "$B_2$ &               0.38 &               0.43 &          7 \\\\\n",
      "$B_3$ &               0.56 &               0.30 &         10 \\\\\n",
      "$B_4$ &               0.75 &               0.45 &         11 \\\\\n",
      "$B_5$ &               0.95 &               1.00 &          2 \\\\\n",
      "\\bottomrule\n",
      "\\end{tabular}\n",
      "\n"
     ]
    }
   ],
   "source": [
    "print(\n",
    "    bins_conf.to_latex(\n",
    "        columns=['$B_i$', '$\\Bar{p}(B_{i}2)$', '$\\Bar{y}(B_{i}2)$', '$|B_{i}|$'],\n",
    "        escape=False, \n",
    "        index=False\n",
    "    ).replace('{i}2', '{i}').replace('NaN', '')\n",
    ")"
   ]
  },
  {
   "cell_type": "code",
   "execution_count": 23,
   "metadata": {},
   "outputs": [
    {
     "name": "stdout",
     "output_type": "stream",
     "text": [
      "(0.2117, '0 \\\\cdot nan + 7 \\\\cdot 0.05 + 10 \\\\cdot 0.26 + 11 \\\\cdot 0.3 + 2 \\\\cdot 0.05')\n"
     ]
    }
   ],
   "source": [
    "print(calculate_binary_ece(bins_conf))"
   ]
  },
  {
   "cell_type": "code",
   "execution_count": 24,
   "metadata": {},
   "outputs": [
    {
     "name": "stdout",
     "output_type": "stream",
     "text": [
      "\\begin{tabular}{lrllll}\n",
      "\\toprule\n",
      "$B_i$ &  $|B_{i}|$ &                                              & $\\Bar{p}(B_{i})$ &                                         & $\\Bar{y}(B_{i})$ \\\\\n",
      "\\midrule\n",
      "$B_1$ &         15 & 0.0, 0.0, 0.0, 0.0, 0.0, 0.1, 0.1, 0.1, 0.1, 0... &           1.5/15 & 0, 0, 0, 0, 0, 0, 0, 0, 0, 0, 1, 1, 1, 1, 1 &             5/15 \\\\\n",
      "$B_2$ &         12 & 0.3, 0.3, 0.3, 0.3, 0.3, 1/3, 1/3, 0.4, 0.4,... &           4.2/12 &          0, 0, 0, 0, 0, 0, 0, 0, 1, 1, 1, 1 &             4/12 \\\\\n",
      "$B_3$ &          3 &                                    0.5, 0.6, 0.6 &            1.7/3 &                                     0, 0, 1 &              1/3 \\\\\n",
      "$B_4$ &          0 &                                                  &            0.0/0 &                                             &            0.0/0 \\\\\n",
      "$B_5$ &          0 &                                                  &            0.0/0 &                                             &            0.0/0 \\\\\n",
      "\\bottomrule\n",
      "\\end{tabular}\n",
      "\n"
     ]
    }
   ],
   "source": [
    "bins_class_2 = get_bins(sorted_toy, 2, n_bins)"
   ]
  },
  {
   "cell_type": "code",
   "execution_count": 25,
   "metadata": {},
   "outputs": [
    {
     "name": "stdout",
     "output_type": "stream",
     "text": [
      "\\begin{tabular}{lrllll}\n",
      "\\toprule\n",
      "$B_i$ &  $|B_{i}|$ &                                              & $\\Bar{p}(B_{i})$ &                             & $\\Bar{y}(B_{i})$ \\\\\n",
      "\\midrule\n",
      "$B_1$ &         11 & 0.0, 0.0, 0.0, 0.0, 0.1, 0.1, 0.1, 0.2, 0.2, 0... &           1.1/11 & 0, 0, 0, 0, 0, 0, 0, 1, 1, 1, 1 &             4/11 \\\\\n",
      "$B_2$ &         11 & 0.3, 0.3, 0.3, 0.3, 1/3, 1/3, 0.4, 0.4, 0.4,... &           3.9/11 & 0, 0, 0, 0, 0, 0, 0, 0, 0, 1, 1 &             2/11 \\\\\n",
      "$B_3$ &          4 &                               0.5, 0.5, 0.6, 0.6 &            2.2/4 &                      0, 0, 0, 1 &              1/4 \\\\\n",
      "$B_4$ &          4 &                               0.7, 0.7, 0.7, 0.8 &            2.9/4 &                      0, 1, 1, 1 &              3/4 \\\\\n",
      "$B_5$ &          0 &                                                  &            0.0/0 &                                 &            0.0/0 \\\\\n",
      "\\bottomrule\n",
      "\\end{tabular}\n",
      "\n"
     ]
    }
   ],
   "source": [
    "bins_class_3 = get_bins(sorted_toy, 3, n_bins)"
   ]
  },
  {
   "cell_type": "code",
   "execution_count": 26,
   "metadata": {},
   "outputs": [
    {
     "name": "stdout",
     "output_type": "stream",
     "text": [
      "(0.147, '15 \\\\cdot 0.23 + 12 \\\\cdot 0.02 + 3 \\\\cdot 0.24 + 0 \\\\cdot nan + 0 \\\\cdot nan')\n"
     ]
    }
   ],
   "source": [
    "cls2_ece = calculate_binary_ece(bins_class_2)\n",
    "print(cls2_ece)"
   ]
  },
  {
   "cell_type": "code",
   "execution_count": 27,
   "metadata": {},
   "outputs": [
    {
     "name": "stdout",
     "output_type": "stream",
     "text": [
      "(0.2017, '11 \\\\cdot 0.26 + 11 \\\\cdot 0.17 + 4 \\\\cdot 0.3 + 4 \\\\cdot 0.03 + 0 \\\\cdot nan')\n"
     ]
    }
   ],
   "source": [
    "cls3_ece = calculate_binary_ece(bins_class_3)\n",
    "print(cls3_ece)"
   ]
  },
  {
   "cell_type": "code",
   "execution_count": 28,
   "metadata": {},
   "outputs": [
    {
     "data": {
      "text/plain": [
       "0.17866666666666667"
      ]
     },
     "execution_count": 28,
     "metadata": {},
     "output_type": "execute_result"
    }
   ],
   "source": [
    "np.mean([pos_ece[0], cls2_ece[0], cls3_ece[0]])"
   ]
  },
  {
   "cell_type": "code",
   "execution_count": 29,
   "metadata": {},
   "outputs": [
    {
     "name": "stdout",
     "output_type": "stream",
     "text": [
      "\\begin{tabular}{lrrr}\n",
      "\\toprule\n",
      "$B_{i,2}$ &  $\\Bar{p}(B_{i,2})$ &  $\\Bar{y}(B_{i,2})$ &  $|B_{i}|$ \\\\\n",
      "\\midrule\n",
      "$B_1$ &               0.10 &               0.33 &         15 \\\\\n",
      "$B_2$ &               0.35 &               0.33 &         12 \\\\\n",
      "$B_3$ &               0.57 &               0.33 &          3 \\\\\n",
      "$B_4$ &                NaN &                NaN &          0 \\\\\n",
      "$B_5$ &                NaN &                NaN &          0 \\\\\n",
      "\\bottomrule\n",
      "\\end{tabular}\n",
      "\n"
     ]
    }
   ],
   "source": [
    "print(\n",
    "    bins_class_2.to_latex(\n",
    "        columns=['$B_i$', '$\\Bar{p}(B_{i}2)$', '$\\Bar{y}(B_{i}2)$', '$|B_{i}|$'],\n",
    "        escape=False, \n",
    "        index=False\n",
    "    ).replace('_i', '_{i,2}').replace('{i}2', '{i,2}')\n",
    ")"
   ]
  },
  {
   "cell_type": "code",
   "execution_count": 30,
   "metadata": {},
   "outputs": [
    {
     "name": "stdout",
     "output_type": "stream",
     "text": [
      "\\begin{tabular}{lrrr}\n",
      "\\toprule\n",
      "$B_{i,3}$ &  $\\Bar{p}(B_{i,3})$ &  $\\Bar{y}(B_{i,3})$ &  $|B_{i}|$ \\\\\n",
      "\\midrule\n",
      "$B_1$ &               0.10 &               0.36 &         11 \\\\\n",
      "$B_2$ &               0.35 &               0.18 &         11 \\\\\n",
      "$B_3$ &               0.55 &               0.25 &          4 \\\\\n",
      "$B_4$ &               0.72 &               0.75 &          4 \\\\\n",
      "$B_5$ &                NaN &                NaN &          0 \\\\\n",
      "\\bottomrule\n",
      "\\end{tabular}\n",
      "\n"
     ]
    }
   ],
   "source": [
    "print(\n",
    "    bins_class_3.to_latex(\n",
    "        columns=['$B_i$', '$\\Bar{p}(B_{i}2)$', '$\\Bar{y}(B_{i}2)$', '$|B_{i}|$'],\n",
    "        escape=False, \n",
    "        index=False\n",
    "    ).replace('_i', '_{i,3}').replace('{i}2', '{i,3}')\n",
    ")"
   ]
  },
  {
   "cell_type": "code",
   "execution_count": 31,
   "metadata": {},
   "outputs": [
    {
     "data": {
      "text/plain": [
       "array([[1., 0., 0.],\n",
       "       [0., 1., 0.],\n",
       "       [1., 0., 0.],\n",
       "       [1., 0., 0.],\n",
       "       [1., 0., 0.],\n",
       "       [1., 0., 0.],\n",
       "       [0., 0., 1.],\n",
       "       [0., 1., 0.],\n",
       "       [0., 0., 1.],\n",
       "       [0., 0., 1.],\n",
       "       [0., 0., 1.],\n",
       "       [0., 1., 0.],\n",
       "       [0., 1., 0.],\n",
       "       [0., 0., 1.],\n",
       "       [1., 0., 0.],\n",
       "       [0., 1., 0.],\n",
       "       [0., 1., 0.],\n",
       "       [1., 0., 0.],\n",
       "       [0., 0., 1.],\n",
       "       [0., 1., 0.],\n",
       "       [0., 1., 0.],\n",
       "       [0., 1., 0.],\n",
       "       [0., 0., 1.],\n",
       "       [1., 0., 0.],\n",
       "       [1., 0., 0.],\n",
       "       [0., 1., 0.],\n",
       "       [0., 0., 1.],\n",
       "       [0., 0., 1.],\n",
       "       [1., 0., 0.],\n",
       "       [0., 0., 1.]])"
      ]
     },
     "execution_count": 31,
     "metadata": {},
     "output_type": "execute_result"
    }
   ],
   "source": [
    "ohl = OneHotEncoder(sparse=False).fit_transform(labels)\n",
    "\n",
    "ohl"
   ]
  },
  {
   "cell_type": "markdown",
   "metadata": {},
   "source": [
    "# Old version\n",
    "\n",
    "We should stop using the following function."
   ]
  },
  {
   "cell_type": "code",
   "execution_count": 32,
   "metadata": {},
   "outputs": [
    {
     "data": {
      "image/png": "[encoded data removed]",
      "text/plain": [
       "<Figure size 432x288 with 1 Axes>"
      ]
     },
     "metadata": {
      "needs_background": "light"
     },
     "output_type": "display_data"
    }
   ],
   "source": [
    "fig = plot_binary_reliability_diagram_gaps(ohl[:,0], scores[:,0], n_bins=5)\n",
    "# plt.savefig('binary-reliability.png')"
   ]
  },
  {
   "cell_type": "markdown",
   "metadata": {},
   "source": [
    "# New reliability diagram\n",
    "\n",
    "The last version for both bar plot and lineplot should be **plot_reliability_diagram** with the desired parameters."
   ]
  },
  {
   "cell_type": "code",
   "execution_count": 33,
   "metadata": {},
   "outputs": [
    {
     "data": {
      "image/png": "[encoded data removed]",
      "text/plain": [
       "<Figure size 432x360 with 2 Axes>"
      ]
     },
     "metadata": {
      "needs_background": "light"
     },
     "output_type": "display_data"
    }
   ],
   "source": [
    "bin_scores = np.vstack([1 - scores[:, 0], scores[:, 0]]).T\n",
    "fig = plt.figure(figsize=(6, 5))\n",
    "fig = plot_reliability_diagram(ohl[:,0], bin_scores, bins=5, show_bars=True, show_gaps=True, fig=fig)\n",
    "# plt.savefig('binary-reliability.png')"
   ]
  },
  {
   "cell_type": "code",
   "execution_count": 34,
   "metadata": {},
   "outputs": [
    {
     "data": {
      "image/png": "[encoded data removed]",
      "text/plain": [
       "<Figure size 432x360 with 2 Axes>"
      ]
     },
     "metadata": {
      "needs_background": "light"
     },
     "output_type": "display_data"
    }
   ],
   "source": [
    "fig = plt.figure(figsize=(6, 5))\n",
    "fig = plot_reliability_diagram(ohl[:,0], [np.vstack([1 - scores[:,0], scores[:,0]]).T,],\n",
    "                               class_names=['not 1', '1'], bins=5, fig=fig,\n",
    "                               show_correction=True)\n",
    "# plt.savefig('binary-reliability.png')"
   ]
  },
  {
   "cell_type": "code",
   "execution_count": 35,
   "metadata": {},
   "outputs": [
    {
     "data": {
      "image/png": "[encoded data removed]",
      "text/plain": [
       "<Figure size 432x288 with 1 Axes>"
      ]
     },
     "metadata": {
      "needs_background": "light"
     },
     "output_type": "display_data"
    }
   ],
   "source": [
    "fig2 = plot_binary_reliability_diagram_gaps(\n",
    "    np.array([1]*5 + [0]*5),\n",
    "    np.array([0.5]*10),      \n",
    "    n_bins=5\n",
    ")\n",
    "# plt.savefig('perfect-reliability.png')"
   ]
  },
  {
   "cell_type": "code",
   "execution_count": 36,
   "metadata": {},
   "outputs": [
    {
     "data": {
      "image/png": "[encoded data removed]",
      "text/plain": [
       "<Figure size 432x288 with 1 Axes>"
      ]
     },
     "metadata": {
      "needs_background": "light"
     },
     "output_type": "display_data"
    }
   ],
   "source": [
    "fig3 = plot_binary_reliability_diagram_gaps(conf_df.values[:,1], conf_df.values[:,0], n_bins=5)\n",
    "# plt.savefig('confidence-reliability.png')"
   ]
  },
  {
   "cell_type": "code",
   "execution_count": 37,
   "metadata": {},
   "outputs": [
    {
     "data": {
      "image/png": "[encoded data removed]",
      "text/plain": [
       "<Figure size 1080x360 with 3 Axes>"
      ]
     },
     "metadata": {
      "needs_background": "light"
     },
     "output_type": "display_data"
    }
   ],
   "source": [
    "fig4 = plt.figure(figsize=(15,5))\n",
    "fi4 = plot_multiclass_reliability_diagram_gaps(\n",
    "    ohl, \n",
    "    scores, \n",
    "    n_bins=5,\n",
    "    fig=fig4\n",
    ")\n",
    "# plt.savefig('classwise-reliability.png')"
   ]
  },
  {
   "cell_type": "code",
   "execution_count": 38,
   "metadata": {},
   "outputs": [
    {
     "data": {
      "image/png": "[encoded data removed]",
      "text/plain": [
       "<Figure size 1080x360 with 6 Axes>"
      ]
     },
     "metadata": {
      "needs_background": "light"
     },
     "output_type": "display_data"
    }
   ],
   "source": [
    "fig = plt.figure(figsize=(15,5))\n",
    "fig = plot_reliability_diagram(labels, [scores, ], bins=5,\n",
    "                               hist_per_class=True,\n",
    "                               show_correction=False,\n",
    "                               errorbar_interval=0.95,\n",
    "                              fig=fig)"
   ]
  },
  {
   "cell_type": "code",
   "execution_count": 39,
   "metadata": {},
   "outputs": [
    {
     "data": {
      "image/png": "[encoded data removed]",
      "text/plain": [
       "<Figure size 432x288 with 1 Axes>"
      ]
     },
     "metadata": {
      "needs_background": "light"
     },
     "output_type": "display_data"
    }
   ],
   "source": [
    "fig2 = plot_binary_reliability_diagram_gaps(\n",
    "    np.array([1] * 10 + [0] * 20),\n",
    "    np.array([1/3] * 30),      \n",
    "    n_bins=5\n",
    ")"
   ]
  },
  {
   "cell_type": "code",
   "execution_count": 40,
   "metadata": {},
   "outputs": [
    {
     "name": "stdout",
     "output_type": "stream",
     "text": [
      "0.6365141682948127\n"
     ]
    }
   ],
   "source": [
    "from sklearn.metrics import log_loss\n",
    "\n",
    "\n",
    "equal_scores = np.array([1/3] * 30)\n",
    "\n",
    "print(\n",
    "    log_loss(\n",
    "        np.array([1] * 10 + [0] * 20),\n",
    "        equal_scores\n",
    "    )\n",
    ")"
   ]
  },
  {
   "cell_type": "code",
   "execution_count": 41,
   "metadata": {},
   "outputs": [
    {
     "data": {
      "text/plain": [
       "0.1053605156578263"
      ]
     },
     "execution_count": 41,
     "metadata": {},
     "output_type": "execute_result"
    }
   ],
   "source": [
    "log_loss(\n",
    "    np.array([1] * 10 + [0] * 20),\n",
    "    np.array([0.9] * 10 + [0.1] * 20)\n",
    ")"
   ]
  },
  {
   "cell_type": "code",
   "execution_count": 42,
   "metadata": {},
   "outputs": [
    {
     "data": {
      "image/png": "[encoded data removed]",
      "text/plain": [
       "<Figure size 432x288 with 1 Axes>"
      ]
     },
     "metadata": {
      "needs_background": "light"
     },
     "output_type": "display_data"
    }
   ],
   "source": [
    "fig3 = plot_binary_reliability_diagram_gaps(\n",
    "    np.array([1] * 10 + [0] * 20),\n",
    "    np.array([0.9] * 10 + [0.1] * 20),      \n",
    "    n_bins=5\n",
    ")"
   ]
  },
  {
   "cell_type": "markdown",
   "metadata": {},
   "source": [
    "# Hypothesis test"
   ]
  },
  {
   "cell_type": "code",
   "execution_count": 43,
   "metadata": {
    "scrolled": true
   },
   "outputs": [],
   "source": [
    "np.random.seed(42)\n",
    "S = 1000\n",
    "\n",
    "values = np.zeros(S)\n",
    "\n",
    "for s in range(S):\n",
    "    lab = np.zeros(len(scores))\n",
    "    for i, score_vec in enumerate(scores):\n",
    "        if np.sum(score_vec) == 1 :\n",
    "            lab[i] = np.random.choice(3, p=score_vec) \n",
    "        else:\n",
    "            lab[i] = np.random.choice(3) \n",
    "    \n",
    "    sample = pd.DataFrame(\n",
    "            np.hstack([scores, lab.reshape(-1, 1)]),\n",
    "            columns=['$\\hat{p}_1$', '$\\hat{p}_2$', '$\\hat{p}_3$', '$y$']\n",
    "        ).astype(\n",
    "            {\n",
    "                '$\\hat{p}_1$': float,\n",
    "                '$\\hat{p}_2$': float,\n",
    "                '$\\hat{p}_3$': float,\n",
    "                '$y$': int\n",
    "            }\n",
    "        )\n",
    "    bins_1 = get_bins(sample, 1, n_bins, print_table=False)\n",
    "    ece_1, _ = calculate_binary_ece(bins_1)\n",
    "    bins_2 = get_bins(sample, 2, n_bins, print_table=False)\n",
    "    ece_2, _ = calculate_binary_ece(bins_2)\n",
    "    bins_3 = get_bins(sample, 3, n_bins, print_table=False)\n",
    "    ece_3, _ = calculate_binary_ece(bins_3)\n",
    "    \n",
    "    values[s] = np.mean([ece_1, ece_2, ece_3])\n",
    "    "
   ]
  },
  {
   "cell_type": "code",
   "execution_count": 44,
   "metadata": {},
   "outputs": [
    {
     "data": {
      "text/plain": [
       "(array([ 0.28058361,  0.56116723,  0.        ,  0.56116723,  0.84175084,\n",
       "         0.28058361,  3.08641975,  1.12233446,  1.9640853 ,  4.20875421,\n",
       "         2.24466891,  4.76992144,  5.05050505,  4.48933782,  7.29517396,\n",
       "         7.57575758,  7.29517396,  9.25925926, 12.0650954 ,  6.73400673,\n",
       "        11.22334456,  8.97867565, 15.71268238, 15.71268238,  9.53984287,\n",
       "        22.72727273, 15.99326599,  6.17283951, 17.39618406,  5.33108866,\n",
       "         3.64758698, 17.67676768,  5.33108866,  1.68350168, 13.46801347,\n",
       "         2.24466891,  3.36700337,  6.73400673,  1.40291807,  2.52525253,\n",
       "         5.05050505,  0.84175084,  1.40291807,  3.36700337,  1.12233446,\n",
       "         1.40291807,  0.56116723,  0.        ,  0.        ,  0.28058361]),\n",
       " array([0.21466667, 0.21823067, 0.22179467, 0.22535867, 0.22892267,\n",
       "        0.23248667, 0.23605067, 0.23961467, 0.24317867, 0.24674267,\n",
       "        0.25030667, 0.25387067, 0.25743467, 0.26099867, 0.26456267,\n",
       "        0.26812667, 0.27169067, 0.27525467, 0.27881867, 0.28238267,\n",
       "        0.28594667, 0.28951067, 0.29307467, 0.29663867, 0.30020267,\n",
       "        0.30376667, 0.30733067, 0.31089467, 0.31445867, 0.31802267,\n",
       "        0.32158667, 0.32515067, 0.32871467, 0.33227867, 0.33584267,\n",
       "        0.33940667, 0.34297067, 0.34653467, 0.35009867, 0.35366267,\n",
       "        0.35722667, 0.36079067, 0.36435467, 0.36791867, 0.37148267,\n",
       "        0.37504667, 0.37861067, 0.38217467, 0.38573867, 0.38930267,\n",
       "        0.39286667]),\n",
       " <BarContainer object of 50 artists>)"
      ]
     },
     "execution_count": 44,
     "metadata": {},
     "output_type": "execute_result"
    },
    {
     "data": {
      "image/png": "[encoded data removed]",
      "text/plain": [
       "<Figure size 432x288 with 1 Axes>"
      ]
     },
     "metadata": {
      "needs_background": "light"
     },
     "output_type": "display_data"
    }
   ],
   "source": [
    "plt.hist(values, bins=50, density=True)"
   ]
  },
  {
   "cell_type": "code",
   "execution_count": 45,
   "metadata": {},
   "outputs": [
    {
     "data": {
      "text/plain": [
       "<matplotlib.collections.PathCollection at 0x7f670c28c340>"
      ]
     },
     "execution_count": 45,
     "metadata": {},
     "output_type": "execute_result"
    },
    {
     "data": {
      "image/png": "[encoded data removed]",
      "text/plain": [
       "<Figure size 432x288 with 1 Axes>"
      ]
     },
     "metadata": {
      "needs_background": "light"
     },
     "output_type": "display_data"
    }
   ],
   "source": [
    "plt.hist(values, bins=50, density=True)\n",
    "plt.scatter([0.32], [0], c='r')"
   ]
  },
  {
   "cell_type": "code",
   "execution_count": 46,
   "metadata": {},
   "outputs": [
    {
     "name": "stdout",
     "output_type": "stream",
     "text": [
      "0.2569999999999996\n"
     ]
    },
    {
     "data": {
      "image/png": "[encoded data removed]",
      "text/plain": [
       "<Figure size 432x288 with 1 Axes>"
      ]
     },
     "metadata": {
      "needs_background": "light"
     },
     "output_type": "display_data"
    }
   ],
   "source": [
    "cal_ece = 0.32\n",
    "(counts, boundaries, patches) = plt.hist(values, bins=50, density=True)\n",
    "plt.scatter([np.mean([cal_ece])], [0], c='r')\n",
    "\n",
    "for i in np.where(boundaries > cal_ece)[0][:-1]:\n",
    "    patches[i].set_color('r')\n",
    "\n",
    "print(np.sum(counts[np.where(boundaries > cal_ece)[0][:-1]])/sum(counts))"
   ]
  },
  {
   "cell_type": "code",
   "execution_count": 47,
   "metadata": {},
   "outputs": [
    {
     "data": {
      "text/plain": [
       "<matplotlib.collections.PathCollection at 0x7f670eb92a90>"
      ]
     },
     "execution_count": 47,
     "metadata": {},
     "output_type": "execute_result"
    },
    {
     "data": {
      "image/png": "[encoded data removed]",
      "text/plain": [
       "<Figure size 432x288 with 1 Axes>"
      ]
     },
     "metadata": {
      "needs_background": "light"
     },
     "output_type": "display_data"
    }
   ],
   "source": [
    "plt.hist(values, bins=50, density=True)\n",
    "plt.scatter([np.mean([pos_ece[0], cls2_ece[0], cls3_ece[0]])], [0], c='r')"
   ]
  },
  {
   "cell_type": "code",
   "execution_count": 48,
   "metadata": {},
   "outputs": [
    {
     "data": {
      "text/plain": [
       "<matplotlib.collections.PathCollection at 0x7f670c87d460>"
      ]
     },
     "execution_count": 48,
     "metadata": {},
     "output_type": "execute_result"
    },
    {
     "data": {
      "image/png": "[encoded data removed]",
      "text/plain": [
       "<Figure size 432x288 with 1 Axes>"
      ]
     },
     "metadata": {
      "needs_background": "light"
     },
     "output_type": "display_data"
    }
   ],
   "source": [
    "(counts, boundaries, patches) = plt.hist(values, bins=50, density=True, color='r')\n",
    "plt.scatter([np.mean([pos_ece[0], cls2_ece[0], cls3_ece[0]])], [0], c='r')"
   ]
  },
  {
   "cell_type": "code",
   "execution_count": 49,
   "metadata": {},
   "outputs": [
    {
     "data": {
      "image/png": "[encoded data removed]",
      "text/plain": [
       "<Figure size 432x288 with 1 Axes>"
      ]
     },
     "metadata": {
      "needs_background": "light"
     },
     "output_type": "display_data"
    }
   ],
   "source": [
    "(counts, boundaries, patches) = plt.hist(values, bins=50, density=True)"
   ]
  },
  {
   "cell_type": "code",
   "execution_count": 50,
   "metadata": {},
   "outputs": [
    {
     "data": {
      "text/plain": [
       "<matplotlib.collections.PathCollection at 0x7f670c62a040>"
      ]
     },
     "execution_count": 50,
     "metadata": {},
     "output_type": "execute_result"
    },
    {
     "data": {
      "image/png": "[encoded data removed]",
      "text/plain": [
       "<Figure size 432x288 with 1 Axes>"
      ]
     },
     "metadata": {
      "needs_background": "light"
     },
     "output_type": "display_data"
    }
   ],
   "source": [
    "uncal_ece = 0.37\n",
    "\n",
    "(counts, boundaries, patches) = plt.hist(values, bins=50, density=True)\n",
    "plt.scatter([np.mean([uncal_ece])], [0], c='r')"
   ]
  },
  {
   "cell_type": "code",
   "execution_count": 51,
   "metadata": {},
   "outputs": [
    {
     "name": "stdout",
     "output_type": "stream",
     "text": [
      "0.012000000000000049\n"
     ]
    },
    {
     "data": {
      "image/png": "[encoded data removed]",
      "text/plain": [
       "<Figure size 432x288 with 1 Axes>"
      ]
     },
     "metadata": {
      "needs_background": "light"
     },
     "output_type": "display_data"
    }
   ],
   "source": [
    "(counts, boundaries, patches) = plt.hist(values, bins=50, density=True)\n",
    "plt.scatter([np.mean([uncal_ece])], [0], c='r')\n",
    "\n",
    "for i in np.where(boundaries > uncal_ece)[0][:-1]:\n",
    "    patches[i].set_color('r')\n",
    "\n",
    "print(np.sum(counts[np.where(boundaries > uncal_ece)[0][:-1]])/sum(counts))"
   ]
  },
  {
   "cell_type": "code",
   "execution_count": 52,
   "metadata": {},
   "outputs": [],
   "source": [
    "S = 1000\n",
    "\n",
    "values = np.zeros(S)\n",
    "for s in range(S):\n",
    "    lab = np.zeros(len(scores))\n",
    "    for i, score_vec in enumerate(scores):\n",
    "        if np.sum(score_vec) == 1 :\n",
    "            lab[i] = np.random.choice(3, p=score_vec) \n",
    "        else:\n",
    "            lab[i] = np.random.choice(3) \n",
    "   \n",
    "    values[s] = log_loss(lab, scores, labels=[0, 1, 2])\n",
    "    "
   ]
  },
  {
   "cell_type": "code",
   "execution_count": 53,
   "metadata": {},
   "outputs": [
    {
     "data": {
      "text/plain": [
       "(array([0.09236799, 0.27710396, 0.        , 0.09236799, 0.36947195,\n",
       "        0.09236799, 0.64657591, 1.29315182, 0.83131189, 1.38551981,\n",
       "        1.93972773, 3.50998352, 2.30919968, 2.30919968, 2.95577559,\n",
       "        2.95577559, 3.87945546, 4.89550332, 4.61839936, 4.98787131,\n",
       "        4.3412954 , 4.43366339, 3.78708748, 4.61839936, 3.41761553,\n",
       "        3.69471949, 4.52603138, 2.77103962, 2.77103962, 2.8634076 ,\n",
       "        2.95577559, 1.93972773, 1.66262377, 1.57025578, 1.29315182,\n",
       "        0.92367987, 1.01604786, 0.92367987, 0.7389439 , 0.64657591,\n",
       "        0.64657591, 0.27710396, 0.09236799, 0.55420792, 0.09236799,\n",
       "        0.        , 0.09236799, 0.09236799, 0.09236799, 0.09236799]),\n",
       " array([0.54908086, 0.55990713, 0.57073339, 0.58155965, 0.59238591,\n",
       "        0.60321217, 0.61403843, 0.6248647 , 0.63569096, 0.64651722,\n",
       "        0.65734348, 0.66816974, 0.678996  , 0.68982227, 0.70064853,\n",
       "        0.71147479, 0.72230105, 0.73312731, 0.74395357, 0.75477984,\n",
       "        0.7656061 , 0.77643236, 0.78725862, 0.79808488, 0.80891114,\n",
       "        0.81973741, 0.83056367, 0.84138993, 0.85221619, 0.86304245,\n",
       "        0.87386871, 0.88469498, 0.89552124, 0.9063475 , 0.91717376,\n",
       "        0.92800002, 0.93882628, 0.94965255, 0.96047881, 0.97130507,\n",
       "        0.98213133, 0.99295759, 1.00378385, 1.01461012, 1.02543638,\n",
       "        1.03626264, 1.0470889 , 1.05791516, 1.06874142, 1.07956769,\n",
       "        1.09039395]),\n",
       " <BarContainer object of 50 artists>)"
      ]
     },
     "execution_count": 53,
     "metadata": {},
     "output_type": "execute_result"
    },
    {
     "data": {
      "image/png": "[encoded data removed]",
      "text/plain": [
       "<Figure size 432x288 with 1 Axes>"
      ]
     },
     "metadata": {
      "needs_background": "light"
     },
     "output_type": "display_data"
    }
   ],
   "source": [
    "plt.hist(values, bins=50, density=True)"
   ]
  },
  {
   "cell_type": "code",
   "execution_count": 54,
   "metadata": {},
   "outputs": [
    {
     "data": {
      "text/plain": [
       "array([[0.9 , 0.1 , 0.  ],\n",
       "       [0.7 , 0.  , 0.3 ],\n",
       "       [0.6 , 0.3 , 0.1 ],\n",
       "       [1.  , 0.  , 0.  ],\n",
       "       [0.8 , 0.1 , 0.1 ],\n",
       "       [0.7 , 0.1 , 0.2 ],\n",
       "       [0.8 , 0.1 , 0.1 ],\n",
       "       [0.8 , 0.2 , 0.  ],\n",
       "       [0.8 , 0.2 , 0.  ],\n",
       "       [0.6 , 0.  , 0.4 ],\n",
       "       [0.  , 0.4 , 0.6 ],\n",
       "       [0.2 , 0.3 , 0.5 ],\n",
       "       [0.1 , 0.3 , 0.6 ],\n",
       "       [0.2 , 0.4 , 0.4 ],\n",
       "       [0.33, 0.33, 0.33],\n",
       "       [0.4 , 0.4 , 0.2 ],\n",
       "       [0.1 , 0.6 , 0.3 ],\n",
       "       [0.1 , 0.5 , 0.4 ],\n",
       "       [0.2 , 0.6 , 0.2 ],\n",
       "       [0.4 , 0.2 , 0.4 ],\n",
       "       [0.3 , 0.4 , 0.3 ],\n",
       "       [0.5 , 0.2 , 0.3 ],\n",
       "       [0.8 , 0.  , 0.2 ],\n",
       "       [0.4 , 0.1 , 0.5 ],\n",
       "       [0.33, 0.33, 0.33],\n",
       "       [0.  , 0.2 , 0.8 ],\n",
       "       [0.  , 0.3 , 0.7 ],\n",
       "       [0.3 , 0.  , 0.7 ],\n",
       "       [0.2 , 0.4 , 0.4 ],\n",
       "       [0.  , 0.3 , 0.7 ]])"
      ]
     },
     "execution_count": 54,
     "metadata": {},
     "output_type": "execute_result"
    }
   ],
   "source": [
    "scores"
   ]
  },
  {
   "cell_type": "code",
   "execution_count": 55,
   "metadata": {},
   "outputs": [],
   "source": [
    "ll = log_loss(labels.flatten() - 1, scores, labels=[0, 1, 2])"
   ]
  },
  {
   "cell_type": "code",
   "execution_count": 56,
   "metadata": {},
   "outputs": [
    {
     "name": "stdout",
     "output_type": "stream",
     "text": [
      "0.0\n"
     ]
    },
    {
     "data": {
      "image/png": "[encoded data removed]",
      "text/plain": [
       "<Figure size 432x288 with 1 Axes>"
      ]
     },
     "metadata": {
      "needs_background": "light"
     },
     "output_type": "display_data"
    }
   ],
   "source": [
    "(counts, boundaries, patches) = plt.hist(values, bins=50, density=True)\n",
    "plt.scatter([ll], [0], c='r')\n",
    "\n",
    "for i in np.where(boundaries > ll)[0][:-1]:\n",
    "    patches[i].set_color('r')\n",
    "\n",
    "print(np.sum(counts[np.where(boundaries > ll)[0][:-1]])/sum(counts))"
   ]
  }
 ],
 "metadata": {
  "kernelspec": {
   "display_name": "Python 3",
   "language": "python",
   "name": "python3"
  },
  "language_info": {
   "codemirror_mode": {
    "name": "ipython",
    "version": 3
   },
   "file_extension": ".py",
   "mimetype": "text/x-python",
   "name": "python",
   "nbconvert_exporter": "python",
   "pygments_lexer": "ipython3",
   "version": "3.8.5"
  }
 },
 "nbformat": 4,
 "nbformat_minor": 4
}
